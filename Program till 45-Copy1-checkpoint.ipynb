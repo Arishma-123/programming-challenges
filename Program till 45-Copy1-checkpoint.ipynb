{
 "cells": [
  {
   "cell_type": "code",
   "execution_count": 1,
   "id": "3d8852b9",
   "metadata": {},
   "outputs": [
    {
     "name": "stdout",
     "output_type": "stream",
     "text": [
      "please enter your nameLister\n",
      "please enter your age39\n",
      "please enter your favourite TV program Red dwarf\n",
      "Lister\n",
      "is\n",
      "39\n",
      "years old and likes \n",
      "Red dwarf\n"
     ]
    }
   ],
   "source": [
    "#program=1\n",
    "name=input(\"please enter your name\")\n",
    "age=int(input(\"please enter your age\"))\n",
    "program=input(\"please enter your favourite TV program \")\n",
    "print(name)\n",
    "print(\"is\")\n",
    "print(age )\n",
    "print(\"years old and likes \")\n",
    "print(program)"
   ]
  },
  {
   "cell_type": "code",
   "execution_count": 2,
   "id": "bdb5b640",
   "metadata": {},
   "outputs": [
    {
     "name": "stdout",
     "output_type": "stream",
     "text": [
      "David\n",
      "Tennant\n",
      "Tennant David\n"
     ]
    }
   ],
   "source": [
    "#program=2\n",
    "first=input()\n",
    "second=input()\n",
    "print(second, first)"
   ]
  },
  {
   "cell_type": "code",
   "execution_count": 3,
   "id": "5ed060b9",
   "metadata": {},
   "outputs": [
    {
     "name": "stdout",
     "output_type": "stream",
     "text": [
      "please enter your nameLister\n",
      "please enter your age39\n",
      "please enter your favourite TV program Red dwarf\n",
      "Lister 39\n",
      "likes watching Red dwarf\n"
     ]
    }
   ],
   "source": [
    "#program=3\n",
    "name=input(\"please enter your name\")\n",
    "age=int(input(\"please enter your age\"))\n",
    "program=input(\"please enter your favourite TV program \")\n",
    "print(name, age)\n",
    "print(\"likes watching\", program)\n"
   ]
  },
  {
   "cell_type": "code",
   "execution_count": 4,
   "id": "ea8a5eb1",
   "metadata": {},
   "outputs": [
    {
     "name": "stdout",
     "output_type": "stream",
     "text": [
      "KY\n",
      "8\n",
      "9\n",
      "HL\n",
      "KY8 9HL\n"
     ]
    }
   ],
   "source": [
    "#program=4\n",
    "a=input()\n",
    "b=int(input())\n",
    "c=int(input())\n",
    "d=input()\n",
    "print(a+str(b), str(c)+d)\n"
   ]
  },
  {
   "cell_type": "code",
   "execution_count": 5,
   "id": "848883ec",
   "metadata": {},
   "outputs": [
    {
     "name": "stdout",
     "output_type": "stream",
     "text": [
      "please enter the following values\n",
      "please enter the length of the rectangle12\n",
      "please enter the breadth of the rectangle6\n",
      "the area of the rectangle is:\n",
      "72.0 square centimeters \n"
     ]
    }
   ],
   "source": [
    "#program=5\n",
    "print(\"please enter the following values\")\n",
    "l=float(input(\"please enter the length of the rectangle\"))\n",
    "b=float(input(\"please enter the breadth of the rectangle\"))\n",
    "area=l*b\n",
    "print(\"the area of the rectangle is:\")\n",
    "print(area, \"square centimeters \")"
   ]
  },
  {
   "cell_type": "code",
   "execution_count": 6,
   "id": "c1133b6e",
   "metadata": {
    "scrolled": true
   },
   "outputs": [
    {
     "name": "stdout",
     "output_type": "stream",
     "text": [
      "please enter two individual integers between 0 and 9\n",
      "2\n",
      "6\n",
      "26\n"
     ]
    }
   ],
   "source": [
    "#program=6\n",
    "print(\"please enter two individual integers between 0 and 9\")\n",
    "a=int(input())\n",
    "b=int(input())\n",
    "print(str(a)+str(b))"
   ]
  },
  {
   "cell_type": "code",
   "execution_count": 8,
   "id": "6b100460",
   "metadata": {},
   "outputs": [
    {
     "name": "stdout",
     "output_type": "stream",
     "text": [
      "KY\n",
      "8\n",
      "9\n",
      "hl\n",
      "KY8 9HL\n"
     ]
    }
   ],
   "source": [
    "#program=7\n",
    "a=input()\n",
    "b=int(input())\n",
    "c=int(input())\n",
    "d=input()\n",
    "print(a+str(b), str(c)+d. upper())"
   ]
  },
  {
   "cell_type": "code",
   "execution_count": 9,
   "id": "c5b85eb1",
   "metadata": {},
   "outputs": [
    {
     "name": "stdout",
     "output_type": "stream",
     "text": [
      "please enter your forename:David\n",
      "please enter your surname:Stott\n",
      "There are 10 letters in your name\n"
     ]
    }
   ],
   "source": [
    "#program=8\n",
    "forename=input(\"please enter your forename:\")\n",
    "surname=input(\"please enter your surname:\")\n",
    "name=forename+surname\n",
    "d=len(name)\n",
    "print(\"There are\", d, \"letters in your name\")"
   ]
  },
  {
   "cell_type": "code",
   "execution_count": 10,
   "id": "270fa692",
   "metadata": {},
   "outputs": [
    {
     "name": "stdout",
     "output_type": "stream",
     "text": [
      "please enter a choice of your sentenceLuke, I am your father\n",
      "your sentence contained the following:\n",
      "a= 2\n",
      "e 2\n",
      "i= 1\n",
      "o= 1\n",
      "u= 2\n",
      "This is total of  8 vowels\n"
     ]
    }
   ],
   "source": [
    "#program=9\n",
    "a=input(\"please enter a choice of your sentence\")\n",
    "b=a. count(\"a\")\n",
    "c=a. count(\"A\")\n",
    "d=a. count(\"e\")\n",
    "e=a. count(\"E\")\n",
    "r=a. count(\"i\")\n",
    "t=a. count(\"I\")\n",
    "y=a. count(\"o\")\n",
    "i=a. count(\"O\")\n",
    "q=a. count(\"u\")\n",
    "p=a. count(\"U\")\n",
    "h=b+c+d+e+r+t+y+i+q+p\n",
    "A=b+c\n",
    "E=d+e\n",
    "I=r+t\n",
    "O=y+i\n",
    "U=q+p\n",
    "print(\"your sentence contained the following:\")\n",
    "print(\"a=\", A)\n",
    "print(\"e\", E)\n",
    "print(\"i=\", I)\n",
    "print(\"o=\", O)\n",
    "print(\"u=\", U)\n",
    "print(\"This is total of \", h,\"vowels\")"
   ]
  },
  {
   "cell_type": "code",
   "execution_count": 11,
   "id": "9badf044",
   "metadata": {},
   "outputs": [
    {
     "name": "stdout",
     "output_type": "stream",
     "text": [
      "please enter the mail reportHe should always ensure that his answers contain as much detail as possible.\n",
      "The female comment is:\n",
      "She should always ensure that her answers contain as much detail as possible.\n"
     ]
    }
   ],
   "source": [
    "#program=10\n",
    "rep=input(\"please enter the mail report\")\n",
    "print (\"The female comment is:\")\n",
    "a=rep.replace(\"He\",\"She\")\n",
    "d=a.replace(\"his\", \"her\")\n",
    "print(d)\n"
   ]
  },
  {
   "cell_type": "code",
   "execution_count": 12,
   "id": "019eba23",
   "metadata": {},
   "outputs": [
    {
     "name": "stdout",
     "output_type": "stream",
     "text": [
      "please enter the product namePlaza beans\n",
      "please enter the year2016\n",
      "The stock code for plaza beans is:\n",
      "Plns26\n"
     ]
    }
   ],
   "source": [
    "#program=11\n",
    "name=input(\"please enter the product name\")\n",
    "age=int(input(\"please enter the year\"))\n",
    "t=str(age)\n",
    "a=name[ :2]\n",
    "d=name[-2: ]\n",
    "f=t[ :1]\n",
    "v=t[-1 :]\n",
    "print(\"The stock code for plaza beans is:\")\n",
    "print (a+d+f+v)"
   ]
  },
  {
   "cell_type": "code",
   "execution_count": 13,
   "id": "8fa15573",
   "metadata": {},
   "outputs": [
    {
     "name": "stdout",
     "output_type": "stream",
     "text": [
      "please enter your three costs\n",
      "12.78\n",
      "6.32\n",
      "34.99\n",
      "The total cost is 54.09\n",
      "the auction companies fee is 5\n"
     ]
    }
   ],
   "source": [
    "#program=12\n",
    "print(\"please enter your three costs\")\n",
    "a=float(input())\n",
    "b=float(input())\n",
    "c=float(input())\n",
    "t=a+b+c\n",
    "fee=int((t*10)/100)\n",
    "print(\"The total cost is\", t)\n",
    "print(\"the auction companies fee is\", fee)"
   ]
  },
  {
   "cell_type": "code",
   "execution_count": 14,
   "id": "d0e7c03f",
   "metadata": {},
   "outputs": [
    {
     "name": "stdout",
     "output_type": "stream",
     "text": [
      "please enter the following value in cm\n",
      "please enter the radius of the circle 16\n",
      "The area of the cirvle is:\n",
      "803.84 square centimeters\n"
     ]
    }
   ],
   "source": [
    "#program=13\n",
    "print(\"please enter the following value in cm\")\n",
    "a=float(input(\"please enter the radius of the circle \"))\n",
    "area=3.14*pow(a, 2)\n",
    "print(\"The area of the cirvle is:\")\n",
    "print(area,\"square centimeters\")"
   ]
  },
  {
   "cell_type": "code",
   "execution_count": 15,
   "id": "df5e51c8",
   "metadata": {},
   "outputs": [
    {
     "name": "stdout",
     "output_type": "stream",
     "text": [
      "please enter the volume of jar2712.96\n",
      "please enter the volume of one sweet2.12\n",
      "1279 sweets fit into the jar\n"
     ]
    }
   ],
   "source": [
    "#program=14\n",
    "a=float(input(\"please enter the volume of jar\"))\n",
    "b=float(input(\"please enter the volume of one sweet\"))\n",
    "c=int(a/b)\n",
    "print(c, \"sweets fit into the jar\")\n"
   ]
  },
  {
   "cell_type": "code",
   "execution_count": 16,
   "id": "aaeae736",
   "metadata": {},
   "outputs": [
    {
     "name": "stdout",
     "output_type": "stream",
     "text": [
      "enter the area in m2 to be painted178\n",
      "enter the area that a single pot covers25\n",
      "You will need 7 pots of paint\n",
      "You can paint 3.0 m2 with the left over paint\n"
     ]
    }
   ],
   "source": [
    "#program=15\n",
    "a=float(input(\"enter the area in m2 to be painted\"))\n",
    "b=float(input(\"enter the area that a single pot covers\"))\n",
    "c=int(a/b)\n",
    "d=a%(b*c)\n",
    "print(\"You will need\", c,\"pots of paint\")\n",
    "print(\"You can paint\", d, \"m2 with the left over paint\")"
   ]
  },
  {
   "cell_type": "code",
   "execution_count": 17,
   "id": "e9c40644",
   "metadata": {},
   "outputs": [
    {
     "name": "stdout",
     "output_type": "stream",
     "text": [
      "please enter the length of a brick in centimeters 20\n",
      "please enter the length of wall in meters9.89\n",
      "47 bricks build in one row of wall.\n",
      "This is  2.0 cm short of the required wall length\n"
     ]
    }
   ],
   "source": [
    "#program=16\n",
    "a=float(input(\"please enter the length of a brick in centimeters \"))\n",
    "b=float(input(\"please enter the length of wall in meters\"))\n",
    "d=a+1\n",
    "g=b*100\n",
    "c=int(g/d)\n",
    "v=g%d\n",
    "print(c,\"bricks build in one row of wall.\")\n",
    "print(\"This is \", v,\"cm short of the required wall length\")"
   ]
  },
  {
   "cell_type": "code",
   "execution_count": 18,
   "id": "cee86bed",
   "metadata": {},
   "outputs": [
    {
     "name": "stdout",
     "output_type": "stream",
     "text": [
      "please enter the number of carbon atoms3\n",
      "The atomic mass of C3H8 is 44\n"
     ]
    }
   ],
   "source": [
    "#program=17\n",
    "a=int(input(\"please enter the number of carbon atoms\"))\n",
    "num_H=(a*2)+2\n",
    "mass=(a*12)+num_H\n",
    "print(\"The atomic mass of\", \"C\"+str(a)+\"H\"+str(num_H),\"is\", mass)\n"
   ]
  },
  {
   "cell_type": "code",
   "execution_count": 19,
   "id": "acd1a9e3",
   "metadata": {},
   "outputs": [
    {
     "name": "stdout",
     "output_type": "stream",
     "text": [
      "How many par 3 holes are there?6\n",
      "How many par 4 holes are there?10\n",
      "How many par 5 holes are there?2\n",
      "What is the difficulty adjustment for the course?-2\n",
      "the standard scratch score for the course is :\n",
      "66\n"
     ]
    }
   ],
   "source": [
    "#program=18\n",
    "a=int(input(\"How many par 3 holes are there?\"))\n",
    "b=int(input(\"How many par 4 holes are there?\"))\n",
    "c=int(input(\"How many par 5 holes are there?\"))\n",
    "d=int(input(\"What is the difficulty adjustment for the course?\"))\n",
    "g=((a*3)+(b*4)+(c*5))-2\n",
    "print(\"the standard scratch score for the course is :\")\n",
    "print(g)"
   ]
  },
  {
   "cell_type": "code",
   "execution_count": 20,
   "id": "80e5f841",
   "metadata": {},
   "outputs": [
    {
     "name": "stdout",
     "output_type": "stream",
     "text": [
      "what is the circumference of your wheel in millimeters?1250\n",
      "How many wheel revolution have taken place in journey?8920\n",
      "How many minutes did you cycle for?30\n",
      "You covered 11.15 km\n",
      "At an average speed of  22.3 kmh\n"
     ]
    }
   ],
   "source": [
    "#program=19\n",
    "a=int(input(\"what is the circumference of your wheel in millimeters?\"))\n",
    "b=int(input(\"How many wheel revolution have taken place in journey?\"))\n",
    "c=int(input(\"How many minutes did you cycle for?\"))\n",
    "dis=(a/1000000)*b\n",
    "f=round(dis, 2)\n",
    "speed=f/(c/60)\n",
    "print (\"You covered\",f, \"km\")\n",
    "print(\"At an average speed of \", speed,\"kmh\")"
   ]
  },
  {
   "cell_type": "code",
   "execution_count": 2,
   "id": "52845e71",
   "metadata": {},
   "outputs": [
    {
     "name": "stdout",
     "output_type": "stream",
     "text": [
      "would you like some advice?y\n",
      "Always know where your towel is\n"
     ]
    }
   ],
   "source": [
    "#program=20\n",
    "a=input(\"would you like some advice?\")\n",
    "if a==\"y\":\n",
    "  print(\"Always know where your towel is\")"
   ]
  },
  {
   "cell_type": "code",
   "execution_count": 1,
   "id": "9c744be1",
   "metadata": {},
   "outputs": [
    {
     "name": "stdout",
     "output_type": "stream",
     "text": [
      "What is th black's score?88\n",
      "what is white's score?84\n",
      "After 6.5 is added the score is:\n",
      "black- 88\n",
      "white- 90.5\n",
      "white is winner\n"
     ]
    }
   ],
   "source": [
    "#program=21\n",
    "black=int(input(\"What is th black's score?\"))\n",
    "white=int(input(\"what is white's score?\"))\n",
    "white1=white+6.5\n",
    "print(\"After 6.5 is added the score is:\")\n",
    "print (\"black-\", black)\n",
    "print(\"white-\", white1)\n",
    "if white1>black:\n",
    "  print(\"white is winner\")\n",
    "else:\n",
    "  print(\"black is the winner\")"
   ]
  },
  {
   "cell_type": "code",
   "execution_count": 3,
   "id": "a65d7072",
   "metadata": {},
   "outputs": [
    {
     "name": "stdout",
     "output_type": "stream",
     "text": [
      "please enter the first amount raised398\n",
      "please enter the second amount raised193\n",
      "please enter the third amount raised478\n",
      "A total of  1069 raised\n",
      "this will be doubled to 2138\n"
     ]
    }
   ],
   "source": [
    "#program=22\n",
    "a=int(input(\"please enter the first amount raised\"))\n",
    "b=int(input(\"please enter the second amount raised\"))\n",
    "c=int(input(\"please enter the third amount raised\"))\n",
    "total=a+b+c\n",
    "print(\"A total of \",total,\"raised\")\n",
    "if total>=1000:\n",
    "  total1=total*2\n",
    "  \n",
    "else:\n",
    "  print(\"amount is not doubled.\")\n",
    "  \n",
    "print(\"this will be doubled to\", total1)"
   ]
  },
  {
   "cell_type": "code",
   "execution_count": 4,
   "id": "19c57627",
   "metadata": {},
   "outputs": [
    {
     "name": "stdout",
     "output_type": "stream",
     "text": [
      "Rectangle1\n",
      "please enter the length:12\n",
      "please enter the width:6\n",
      "Rectangle2\n",
      "please enter the length:7\n",
      "please enter the width:9\n",
      "Rectangle 1 has the largest area \n"
     ]
    }
   ],
   "source": [
    "#program=23\n",
    "print(\"Rectangle1\")\n",
    "a=float(input(\"please enter the length:\"))\n",
    "b=float(input(\"please enter the width:\"))\n",
    "print(\"Rectangle2\")\n",
    "c=float(input(\"please enter the length:\"))\n",
    "d=float(input(\"please enter the width:\"))\n",
    "area1=a*b\n",
    "area2=c*d\n",
    "if area1>area2:\n",
    "  print(\"Rectangle 1 has the largest area \")\n",
    "else:\n",
    "  print(\"Rectangle 2 has the largest area \")"
   ]
  },
  {
   "cell_type": "code",
   "execution_count": 4,
   "id": "e1ef8ee6",
   "metadata": {},
   "outputs": [
    {
     "name": "stdout",
     "output_type": "stream",
     "text": [
      "Enter sentence 1You can't handle the truth!\n",
      "Enter sentence 2Houston, we have a problem.\n",
      "The percentage of vowels in sentence 1: 25.93\n",
      "The percentage of vowels in sentence 2: 33.33\n",
      "sentence 1 has  7\n",
      "sentence 2 has  9\n",
      "sentence 1 has more vowels\n",
      "The percentage of vowels in sentence 1: 25.93\n",
      "The percentage of vowels in sentence 2: 33.33\n",
      "sentence 1 has  7 vowels\n",
      "sentence 2 has  9 vowels\n",
      "sentence 2 has more vowels\n"
     ]
    }
   ],
   "source": [
    "#program=24 true\n",
    "k=input(\"Enter sentence 1\")\n",
    "l=input(\"Enter sentence 2\")\n",
    "a=k. lower()\n",
    "b=l. lower()\n",
    "s=a. count(\"a\")\n",
    "d=a. count(\"e\")\n",
    "f=a. count(\"i\")\n",
    "g=a. count(\"o\")\n",
    "h=a. count(\"u\")\n",
    "q=b. count(\"a\")\n",
    "w=b. count(\"e\")\n",
    "r=b. count(\"i\")\n",
    "t=b. count(\"o\")\n",
    "u=b. count(\"u\")\n",
    "vow1=s+f+g+d+h\n",
    "vow2=q+w+r+t+u\n",
    "len1=len(a)\n",
    "len2=len(b)\n",
    "nm= 100/len1*vow1\n",
    "per1= round(nm,2)\n",
    "vm=100/len2*vow2\n",
    "per2=round(vm,2)\n",
    "print(\"The percentage of vowels in sentence 1:\",per1)\n",
    "print(\"The percentage of vowels in sentence 2:\",per2)\n",
    "print(\"sentence 1 has \", vow1)\n",
    "print(\"sentence 2 has \", vow2)\n",
    "if vow1>vow2:\n",
    "  print(\"sentence 2 has more vowels\")\n",
    "else:\n",
    "  print (\"sentence 1 has more vowels\")\n",
    "print(\"The percentage of vowels in sentence 1:\",per1)\n",
    "print(\"The percentage of vowels in sentence 2:\",per2)\n",
    "print(\"sentence 1 has \", vow1,\"vowels\")\n",
    "print(\"sentence 2 has \", vow2,\"vowels\")\n",
    "if vow1>vow2:\n",
    "  print(\"sentence 1 has more vowels\")\n",
    "else:\n",
    "  print (\"sentence 2 has more vowels\")\n"
   ]
  },
  {
   "cell_type": "code",
   "execution_count": 2,
   "id": "f18efb21",
   "metadata": {},
   "outputs": [
    {
     "name": "stdout",
     "output_type": "stream",
     "text": [
      "would you like some advice?Y\n",
      "Always know where your towel is\n"
     ]
    }
   ],
   "source": [
    "#program=25\n",
    "a=input(\"would you like some advice?\")\n",
    "if a==\"Y\":\n",
    "  print(\"Always know where your towel is\")\n",
    "elif a==\"N\":\n",
    "  print(\"thank you for the opinion \")\n",
    "else:\n",
    "  print(\"sorry, you were asked to enter Y or N\")"
   ]
  },
  {
   "cell_type": "code",
   "execution_count": 6,
   "id": "b60deaaf",
   "metadata": {},
   "outputs": [
    {
     "name": "stdout",
     "output_type": "stream",
     "text": [
      "please enter the one of the two test speeds(30,50)50\n",
      "please enter the tested stopping distance39.7\n",
      "Your car failed the braking distance test\n"
     ]
    }
   ],
   "source": [
    "#program=26\n",
    "a=int(input(\"please enter the one of the two test speeds(30,50)\"))\n",
    "b=float(input(\"please enter the tested stopping distance\"))\n",
    "if a==30:\n",
    "  if b>14:\n",
    "    print(\"Your car failed the braking distance test\")\n",
    "  elif b<=14:\n",
    "    print(\"Your car has passed the test.\")\n",
    "else:\n",
    "  if b>38:\n",
    "    print(\"Your car failed the braking distance test\")\n",
    "  elif b<=38:\n",
    "    print(\"Your car has passed the test.\")"
   ]
  },
  {
   "cell_type": "code",
   "execution_count": 5,
   "id": "db9618ec",
   "metadata": {},
   "outputs": [
    {
     "name": "stdout",
     "output_type": "stream",
     "text": [
      "please enter the first amount raised740\n",
      "please enter the second amount raised690\n",
      "please enter the third amount raised1024\n",
      "A total of 2454 was raised\n",
      "with the company bonus, this is  4454\n"
     ]
    }
   ],
   "source": [
    "#program=27\n",
    "a=int(input (\"please enter the first amount raised\"))\n",
    "b=int(input (\"please enter the second amount raised\"))\n",
    "c=int(input (\"please enter the third amount raised\"))\n",
    "t=a+b+c\n",
    "print(\"A total of\", t, \"was raised\")\n",
    "if t<1000:\n",
    "  t1=t+100\n",
    "  print(\"with the company bonus, this is \",t1)\n",
    "elif t>1000 and t<2000:\n",
    "  t1=t*2\n",
    "  print(\"with the company bonus, this is \",t1)\n",
    "elif t>2000:\n",
    "  t1=t+4000-2000\n",
    "  print(\"with the company bonus, this is \",t1)\n",
    "else:\n",
    "  print(\"raised amoint is not enough to double\")"
   ]
  },
  {
   "cell_type": "code",
   "execution_count": 1,
   "id": "81180897",
   "metadata": {},
   "outputs": [
    {
     "name": "stdout",
     "output_type": "stream",
     "text": [
      "please enter a sentenceDon't behave like a muppet in class\n",
      "Don't behave like a muppet in class\n",
      "Don't behave like a muppet in class\n",
      "Don't behave like a muppet in class\n",
      "Don't behave like a muppet in class\n",
      "Don't behave like a muppet in class\n",
      "Don't behave like a muppet in class\n",
      "Don't behave like a muppet in class\n",
      "Don't behave like a muppet in class\n",
      "Don't behave like a muppet in class\n",
      "Don't behave like a muppet in class\n",
      "Don't behave like a muppet in class\n",
      "Don't behave like a muppet in class\n",
      "Don't behave like a muppet in class\n",
      "Don't behave like a muppet in class\n",
      "Don't behave like a muppet in class\n",
      "Don't behave like a muppet in class\n",
      "Don't behave like a muppet in class\n",
      "Don't behave like a muppet in class\n",
      "Don't behave like a muppet in class\n",
      "Don't behave like a muppet in class\n"
     ]
    }
   ],
   "source": [
    "#program=28\n",
    "a=input(\"please enter a sentence\")\n",
    "for loop in range(20):\n",
    "  print(a)"
   ]
  },
  {
   "cell_type": "code",
   "execution_count": 2,
   "id": "00ac1dbc",
   "metadata": {},
   "outputs": [
    {
     "name": "stdout",
     "output_type": "stream",
     "text": [
      "please enter the first amount raised398\n",
      "please enter the second amount raised193\n",
      "please enter the third amount raised478\n",
      "A total of  1069 was raised\n",
      "This will be doubled to:\n",
      "2138 !!!\n",
      "2138 !!!\n",
      "2138 !!!\n"
     ]
    }
   ],
   "source": [
    "#program=29\n",
    "a=int(input (\"please enter the first amount raised\"))\n",
    "b=int(input (\"please enter the second amount raised\"))\n",
    "c=int(input (\"please enter the third amount raised\"))\n",
    "t=a+b+c\n",
    "print(\"A total of \", t,\"was raised\")\n",
    "t1=2*t\n",
    "print(\"This will be doubled to:\")\n",
    "for loop in range(3):\n",
    "  print(t1,\"!!!\")"
   ]
  },
  {
   "cell_type": "code",
   "execution_count": 3,
   "id": "d275148f",
   "metadata": {},
   "outputs": [
    {
     "name": "stdout",
     "output_type": "stream",
     "text": [
      "plese enter the first nameMatt\n",
      "please enter the sur nameReid\n",
      "M R MATT reid MattReid\n",
      "MattReid REID matt r m\n",
      "M R MATT reid MattReid\n",
      "MattReid REID matt r m\n",
      "M R MATT reid MattReid\n",
      "MattReid REID matt r m\n"
     ]
    }
   ],
   "source": [
    "#program=30\n",
    "a=input(\"plese enter the first name\")\n",
    "b=input(\"please enter the sur name\")\n",
    "a1=a[0]. upper()\n",
    "b1=b[0]. upper()\n",
    "a2=a. upper ()\n",
    "b2=b. lower()\n",
    "c=a+b\n",
    "b3=b.upper()\n",
    "a3=a. lower()\n",
    "a4=a1.lower()\n",
    "b4=b1.lower()\n",
    "for loop in range(3):\n",
    "  print(a1,b1,a2,b2,c)\n",
    "  print(c, b3,a3,b4,a4)"
   ]
  },
  {
   "cell_type": "code",
   "execution_count": 4,
   "id": "7a672f39",
   "metadata": {},
   "outputs": [
    {
     "name": "stdout",
     "output_type": "stream",
     "text": [
      "please enter the score for each ball\n",
      "0\n",
      "2\n",
      "0\n",
      "0\n",
      "6\n",
      "4\n",
      "This over's score was : 12\n"
     ]
    }
   ],
   "source": [
    "#program=31\n",
    "total=0\n",
    "print(\"please enter the score for each ball\")\n",
    "for loop in range(6):\n",
    "  a=int(input())\n",
    "  total=total+a\n",
    "print(\"This over's score was :\", total)\n",
    "  "
   ]
  },
  {
   "cell_type": "code",
   "execution_count": 5,
   "id": "4ce03cef",
   "metadata": {},
   "outputs": [
    {
     "name": "stdout",
     "output_type": "stream",
     "text": [
      "please enter the seven temperature \n",
      "12\n",
      "14\n",
      "7\n",
      "6\n",
      "7\n",
      "11\n",
      "11\n",
      "This week average was:\n",
      "9.71 degree centigrade\n"
     ]
    }
   ],
   "source": [
    "#program =32\n",
    "total=0\n",
    "print(\"please enter the seven temperature \")\n",
    "for loop in range(7):\n",
    "  a=int(input())\n",
    "  total=total+a\n",
    "avg=total/7\n",
    "avg1=round (avg, 2)\n",
    "print(\"This week average was:\")\n",
    "print(avg1,\"degree centigrade\")"
   ]
  },
  {
   "cell_type": "code",
   "execution_count": 6,
   "id": "e7b9e0ea",
   "metadata": {},
   "outputs": [
    {
     "name": "stdout",
     "output_type": "stream",
     "text": [
      "which sentence would you like copied?Mr Reid is the best teacher\n",
      "How many times would you like this copied54\n",
      "Mr Reid is the best teacher\n",
      "Mr Reid is the best teacher\n",
      "Mr Reid is the best teacher\n",
      "Mr Reid is the best teacher\n",
      "Mr Reid is the best teacher\n",
      "Mr Reid is the best teacher\n",
      "Mr Reid is the best teacher\n",
      "Mr Reid is the best teacher\n",
      "Mr Reid is the best teacher\n",
      "Mr Reid is the best teacher\n",
      "Mr Reid is the best teacher\n",
      "Mr Reid is the best teacher\n",
      "Mr Reid is the best teacher\n",
      "Mr Reid is the best teacher\n",
      "Mr Reid is the best teacher\n",
      "Mr Reid is the best teacher\n",
      "Mr Reid is the best teacher\n",
      "Mr Reid is the best teacher\n",
      "Mr Reid is the best teacher\n",
      "Mr Reid is the best teacher\n",
      "Mr Reid is the best teacher\n",
      "Mr Reid is the best teacher\n",
      "Mr Reid is the best teacher\n",
      "Mr Reid is the best teacher\n",
      "Mr Reid is the best teacher\n",
      "Mr Reid is the best teacher\n",
      "Mr Reid is the best teacher\n",
      "Mr Reid is the best teacher\n",
      "Mr Reid is the best teacher\n",
      "Mr Reid is the best teacher\n",
      "Mr Reid is the best teacher\n",
      "Mr Reid is the best teacher\n",
      "Mr Reid is the best teacher\n",
      "Mr Reid is the best teacher\n",
      "Mr Reid is the best teacher\n",
      "Mr Reid is the best teacher\n",
      "Mr Reid is the best teacher\n",
      "Mr Reid is the best teacher\n",
      "Mr Reid is the best teacher\n",
      "Mr Reid is the best teacher\n",
      "Mr Reid is the best teacher\n",
      "Mr Reid is the best teacher\n",
      "Mr Reid is the best teacher\n",
      "Mr Reid is the best teacher\n",
      "Mr Reid is the best teacher\n",
      "Mr Reid is the best teacher\n",
      "Mr Reid is the best teacher\n",
      "Mr Reid is the best teacher\n",
      "Mr Reid is the best teacher\n",
      "Mr Reid is the best teacher\n",
      "Mr Reid is the best teacher\n",
      "Mr Reid is the best teacher\n",
      "Mr Reid is the best teacher\n",
      "Mr Reid is the best teacher\n"
     ]
    }
   ],
   "source": [
    "#program=33\n",
    "a=input(\"which sentence would you like copied?\")\n",
    "b=int(input(\"How many times would you like this copied\"))\n",
    "for loop in range(b):\n",
    "  print(a)"
   ]
  },
  {
   "cell_type": "code",
   "execution_count": 2,
   "id": "ec1eebb9",
   "metadata": {},
   "outputs": [
    {
     "name": "stdout",
     "output_type": "stream",
     "text": [
      "How many charity raisers were there6\n",
      "Enter the total raised by each:\n",
      "238\n",
      "624\n",
      "546\n",
      "333\n",
      "651\n",
      "174\n",
      "A total of  2566 raised\n",
      "This will be increased to :\n",
      "4566 !!!\n",
      "4566 !!!\n",
      "4566 !!!\n"
     ]
    }
   ],
   "source": [
    "#program=34\n",
    "total=0\n",
    "a=int(input(\"How many charity raisers were there\"))\n",
    "print(\"Enter the total raised by each:\")\n",
    "for loop in range(a):\n",
    "  b=int(input())\n",
    "  total=total+b\n",
    "print(\"A total of \", total,\"raised\")\n",
    "total1=total+2000\n",
    "print(\"This will be increased to :\")\n",
    "for loop in range(3):\n",
    "  print(total1,\"!!!\")"
   ]
  },
  {
   "cell_type": "code",
   "execution_count": 1,
   "id": "a35ffd27",
   "metadata": {},
   "outputs": [
    {
     "name": "stdout",
     "output_type": "stream",
     "text": [
      "please enter the number of students:3\n",
      "Enter the time in seconds for each students\n",
      "student 1\n",
      "82\n",
      "student 2\n",
      "67\n",
      "student 3\n",
      "45\n",
      "The average time fir the  3 student was\n",
      "64.67 seconds\n"
     ]
    }
   ],
   "source": [
    "#program=35\n",
    "total=0\n",
    "a=int(input(\"please enter the number of students:\"))\n",
    "print(\"Enter the time in seconds for each students\")\n",
    "for loop in range(1,a+1):\n",
    "  print(\"student\", loop)\n",
    "  b=int(input())\n",
    "  total=total+b\n",
    "avg=total /a\n",
    "avg1=round(avg, 2)\n",
    "print(\"The average time fir the \",a,\"student was\" )\n",
    "print(avg1,\"seconds\")\n"
   ]
  },
  {
   "cell_type": "code",
   "execution_count": 2,
   "id": "550b693b",
   "metadata": {},
   "outputs": [
    {
     "name": "stdout",
     "output_type": "stream",
     "text": [
      "Odd Numbers list\n",
      "1\n",
      "3\n",
      "5\n",
      "7\n",
      "9\n",
      "11\n"
     ]
    }
   ],
   "source": [
    "#program=36\n",
    "print(\"Odd Numbers list\")\n",
    "for loop in range(0,12,2):\n",
    "  a=loop+1\n",
    "  print(a)\n"
   ]
  },
  {
   "cell_type": "code",
   "execution_count": 5,
   "id": "02bf1b2d",
   "metadata": {},
   "outputs": [
    {
     "name": "stdout",
     "output_type": "stream",
     "text": [
      "The following program wiil display odd numbers\n",
      "Enter the first number in the list5\n",
      "Enter the last number in the list13\n",
      "Odd Numbers List\n",
      "5\n",
      "7\n",
      "9\n",
      "11\n",
      "13\n"
     ]
    }
   ],
   "source": [
    "#programe =37\n",
    "print(\"The following program wiil display odd numbers\")\n",
    "a=int(input(\"Enter the first number in the list\"))\n",
    "b=int(input(\"Enter the last number in the list\"))\n",
    "print(\"Odd Numbers List\")\n",
    "for loop in range(a, b+1,2):\n",
    "  print(loop)"
   ]
  },
  {
   "cell_type": "code",
   "execution_count": 7,
   "id": "2fb61e95",
   "metadata": {},
   "outputs": [
    {
     "name": "stdout",
     "output_type": "stream",
     "text": [
      "please enter the password\n",
      "Snool\n",
      "sorry incorrect!try again\n",
      "please enter the password\n",
      "ornery\n",
      "Entry gained\n"
     ]
    }
   ],
   "source": [
    "#program=38\n",
    "while True:\n",
    "  print(\"please enter the password\")\n",
    "  a=input()\n",
    "  if a==\"ornery\":\n",
    "    print(\"Entry gained\")\n",
    "    break\n",
    "  else:\n",
    "    print(\"sorry incorrect!try again\")\n",
    "    continue\n",
    "      \n",
    "  \n",
    "    "
   ]
  },
  {
   "cell_type": "code",
   "execution_count": 1,
   "id": "bac0ed2b",
   "metadata": {},
   "outputs": [
    {
     "name": "stdout",
     "output_type": "stream",
     "text": [
      "The following program will display odd numbers\n",
      "Enter the first number in the list\n",
      "5\n",
      "Enter the last number in the list \n",
      "17\n",
      "Sorry the number must be at least  5 +20\n",
      "please re enter the number\n",
      "27\n",
      "odd numbers list\n",
      "5\n",
      "7\n",
      "9\n",
      "11\n",
      "13\n",
      "15\n",
      "17\n",
      "19\n",
      "21\n",
      "23\n",
      "25\n"
     ]
    }
   ],
   "source": [
    "#program=39\n",
    "print(\"The following program will display odd numbers\")\n",
    "print(\"Enter the first number in the list\")\n",
    "a=int(input())\n",
    "print(\"Enter the last number in the list \")\n",
    "while True:\n",
    "  b=int(input())\n",
    "  if b>a+20:\n",
    "    print(\"odd numbers list\")\n",
    "    for loop in range (a,b,2):\n",
    "      print(loop)\n",
    "    break\n",
    "      \n",
    "  else:\n",
    "    print(\"Sorry the number must be at least \",a,\"+20\")\n",
    "    print(\"please re enter the number\")\n",
    "    continue\n",
    "  \n",
    "  "
   ]
  },
  {
   "cell_type": "code",
   "execution_count": 9,
   "id": "7725ded9",
   "metadata": {},
   "outputs": [
    {
     "name": "stdout",
     "output_type": "stream",
     "text": [
      "would you like some advice\n",
      "H\n",
      "please enter Y or N only\n",
      "would you like some advice\n",
      "N\n",
      "Don't be silly. You definetly need advice\n",
      "would you like some advice\n",
      "Y\n",
      "Dom't feed the trolls\n"
     ]
    }
   ],
   "source": [
    "#program=40\n",
    "while True:\n",
    "  print(\"would you like some advice\")\n",
    "  a=input()\n",
    "  if a==\"Y\":\n",
    "    print(\"Dom't feed the trolls\")\n",
    "    break\n",
    "  elif a==\"N\":\n",
    "      print(\"Don't be silly. You definetly need advice\")\n",
    "      continue\n",
    "  else:\n",
    "    print(\"please enter Y or N only\")"
   ]
  },
  {
   "cell_type": "code",
   "execution_count": 2,
   "id": "7996c852",
   "metadata": {},
   "outputs": [
    {
     "name": "stdout",
     "output_type": "stream",
     "text": [
      "please enter the price of each\n",
      "35\n",
      "100\n",
      "50\n",
      "45\n",
      "limit exceeds\n",
      "You can't handle the  45 present\n"
     ]
    }
   ],
   "source": [
    "#program=41\n",
    "print(\"please enter the price of each\")\n",
    "sum=0\n",
    "while True:\n",
    "  a=int(input())\n",
    "  sum=sum+a\n",
    "  if sum>200:\n",
    "    print(\"limit exceeds\")\n",
    "  \n",
    "    print(\"You can't handle the \",a,\"present\")\n",
    "    break\n",
    "  else:\n",
    "    continue\n",
    "    \n",
    "    \n",
    "    "
   ]
  },
  {
   "cell_type": "code",
   "execution_count": 3,
   "id": "c494b161",
   "metadata": {},
   "outputs": [
    {
     "name": "stdout",
     "output_type": "stream",
     "text": [
      "Enter your choice(Q, A, K or L)\n",
      "V\n",
      "V is not valid. Enter Q, A, K or L\n",
      "L\n",
      "L selected \n"
     ]
    }
   ],
   "source": [
    "#program=42\n",
    "print(\"Enter your choice(Q, A, K or L)\")\n",
    "while True:\n",
    "  a=input()\n",
    "  b=a. upper()\n",
    "  if b==\"Q\"or b==\"A\" or b==\"K\" or b==\"L\":\n",
    "    print(b, \"selected \")\n",
    "    break\n",
    "  else:\n",
    "    print(b, \"is not valid. Enter Q, A, K or L\")\n",
    "    continue"
   ]
  },
  {
   "cell_type": "code",
   "execution_count": 4,
   "id": "eea497af",
   "metadata": {},
   "outputs": [
    {
     "name": "stdout",
     "output_type": "stream",
     "text": [
      "Guess the hidden number between 1 and 100\n",
      "Enter your guess\n",
      "112\n",
      "Your guess is not valid. Enter it again\n",
      "67\n",
      "your guess is too high. try again\n",
      "50\n",
      "your guess is too low. try again\n",
      "52\n",
      "correct! well done\n"
     ]
    }
   ],
   "source": [
    "#program=43\n",
    "print(\"Guess the hidden number between 1 and 100\")\n",
    "print(\"Enter your guess\")\n",
    "while True:\n",
    "  a=int(input())\n",
    "  if a==52:\n",
    "    print(\"correct! well done\")\n",
    "    break\n",
    "  elif a>52 and a<100:\n",
    "    print(\"your guess is too high. try again\")\n",
    "  elif a<52 and a>1:\n",
    "    print(\"your guess is too low. try again\")\n",
    "  else:\n",
    "    print(\"Your guess is not valid. Enter it again\")\n",
    "    continue\n"
   ]
  },
  {
   "cell_type": "code",
   "execution_count": 7,
   "id": "aee25a74",
   "metadata": {},
   "outputs": [
    {
     "name": "stdout",
     "output_type": "stream",
     "text": [
      "week 1\n",
      "please enter the seven temperature\n",
      "12\n",
      "14\n",
      "7\n",
      "6\n",
      "66\n",
      "temperature should be between -40 and 55\n",
      "7\n",
      "11\n",
      "11\n",
      "week 2\n",
      "please enter the seven temperature\n",
      "21\n",
      "12\n",
      "12\n",
      "12\n",
      "12\n",
      "12\n",
      "12\n",
      "week 3\n",
      "please enter the seven temperature\n",
      "12\n",
      "12\n",
      "12\n",
      "12\n",
      "12\n",
      "12\n",
      "12\n",
      "week 4\n",
      "please enter the seven temperature\n",
      "12\n",
      "12\n",
      "12\n",
      "12\n",
      "12\n",
      "12\n",
      "12\n",
      "week 1 average was:\n",
      "8.71 degrees centigrade\n",
      "week 2 average was:\n",
      "13.29 degrees centigrade\n",
      "week 3 average was:\n",
      "12.0 degrees centigrade\n",
      "week 4 average was:\n",
      "12.0 degrees centigrade\n"
     ]
    }
   ],
   "source": [
    "#programme=44\n",
    "s=[]\n",
    "for loop in range(4):\n",
    "  print(\"week\", loop+1)\n",
    "  print(\"please enter the seven temperature\")\n",
    "  sum=0\n",
    "  for i in range(7):\n",
    "    a=int(input())\n",
    "    if a<-40 or a>55:\n",
    "      print(\"temperature should be between -40 and 55\")\n",
    "      a=int(input())\n",
    "      continue\n",
    "    sum=sum+a\n",
    "  d=sum/7\n",
    "  e=round(d, 2)\n",
    "  s. append(e)\n",
    "for i in range(len(s)):\n",
    "  print(\"week\", i+1,\"average was:\")\n",
    "  print(s[i],\"degrees centigrade\")\n",
    " \n"
   ]
  },
  {
   "cell_type": "code",
   "execution_count": 6,
   "id": "06893aaa",
   "metadata": {},
   "outputs": [
    {
     "name": "stdout",
     "output_type": "stream",
     "text": [
      "please enter the scores of player 1\n",
      "24\n",
      "26\n",
      "200\n",
      "invalid scores\n",
      "100\n",
      "please enter the scores of player 2\n",
      "78\n",
      "80\n",
      "97\n",
      "player two scored the highest indivudual score\n",
      "player two wins\n"
     ]
    }
   ],
   "source": [
    "#programme=45\n",
    "s=[]\n",
    "for loop in range(2):\n",
    "  sum=0\n",
    "  print(\"please enter the scores of player\", str(loop+1))\n",
    "  for i in range(3):\n",
    "    sum=0\n",
    "    a=int(input())\n",
    "    if a<0 or a>180:\n",
    "      print(\"invalid scores\")\n",
    "      a=int(input())\n",
    "      continue\n",
    "    sum=sum+a\n",
    "  s. append(sum)\n",
    "for k in range(1):\n",
    "  if s[k]>s[k+1]:\n",
    "    print(\"player one scored the highest individual score\")\n",
    "    print(\"player one wins \")\n",
    "  else:\n",
    "    print(\"player two scored the highest indivudual score\")\n",
    "    print(\"player two wins\")\n",
    "    "
   ]
  },
  {
   "cell_type": "code",
   "execution_count": null,
   "id": "f06ef564",
   "metadata": {},
   "outputs": [],
   "source": []
  }
 ],
 "metadata": {
  "kernelspec": {
   "display_name": "Python 3 (ipykernel)",
   "language": "python",
   "name": "python3"
  },
  "language_info": {
   "codemirror_mode": {
    "name": "ipython",
    "version": 3
   },
   "file_extension": ".py",
   "mimetype": "text/x-python",
   "name": "python",
   "nbconvert_exporter": "python",
   "pygments_lexer": "ipython3",
   "version": "3.9.7"
  }
 },
 "nbformat": 4,
 "nbformat_minor": 5
}
